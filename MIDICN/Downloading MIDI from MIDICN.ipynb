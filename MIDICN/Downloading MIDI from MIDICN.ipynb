{
 "cells": [
  {
   "cell_type": "code",
   "execution_count": 3,
   "metadata": {
    "collapsed": true
   },
   "outputs": [],
   "source": [
    "from lxml import html\n",
    "import urllib\n",
    "import requests\n",
    "import shutil"
   ]
  },
  {
   "cell_type": "markdown",
   "metadata": {},
   "source": [
    "## 1. MIDI音乐下载 (http://midi.midicn.com/2000/06/06/%E5%8F%A4%E5%85%B8%E9%9F%B3%E4%B9%90MIDI)"
   ]
  },
  {
   "cell_type": "code",
   "execution_count": 20,
   "metadata": {},
   "outputs": [
    {
     "name": "stdout",
     "output_type": "stream",
     "text": [
      "['å\\x8f¤å\\x85¸é\\x9f³ä¹\\x90MIDI']\n"
     ]
    }
   ],
   "source": [
    "classical_url = \"http://midi.midicn.com/2000/06/06/%E5%8F%A4%E5%85%B8%E9%9F%B3%E4%B9%90MIDI\"\n",
    "classical_page = requests.get(classical_url)\n",
    "classical_tree = html.fromstring(classical_page.content)\n",
    "print(classical_tree.xpath(\"//title/text()\"))"
   ]
  },
  {
   "cell_type": "code",
   "execution_count": 21,
   "metadata": {
    "collapsed": true
   },
   "outputs": [],
   "source": [
    "classical_links = classical_tree.xpath(\"//section[@class='article-content']//ul//li//a/@href\")"
   ]
  },
  {
   "cell_type": "markdown",
   "metadata": {},
   "source": [
    "### Look up list of title & artist name"
   ]
  },
  {
   "cell_type": "code",
   "execution_count": 27,
   "metadata": {},
   "outputs": [
    {
     "data": {
      "text/plain": [
       "['11 New Bagatelles, Op.119 --1.Allegretto --Beethoven(7K)',\n",
       " '11 New Bagatelles, Op.119 --10.Allegramente --Beethoven(2K)',\n",
       " '11 New Bagatelles, Op.119 --11.Andante, ma non troppo --Beethoven(4K)',\n",
       " '11 New Bagatelles, Op.119 --2.Andante con moto --Beethoven(5K)']"
      ]
     },
     "execution_count": 27,
     "metadata": {},
     "output_type": "execute_result"
    }
   ],
   "source": [
    "classical_titles = classical_tree.xpath(\"//section[@class='article-content']//ul//li//a/text()\")\n",
    "classical_artists = classical_tree.xpath(\"//section[@class='article-content']//ul//li/text()\")\n",
    "\n",
    "classical_titles_artists = []\n",
    "for i in range(0, len(classical_titles)):\n",
    "    classical_titles_artists.append(classical_titles[i] + classical_artists[i])\n",
    "classical_titles_artists[:4]"
   ]
  },
  {
   "cell_type": "markdown",
   "metadata": {},
   "source": [
    "## 2. 欧美流行音乐MIDI (http://midi.midicn.com/2000/06/06/%E6%AC%A7%E7%BE%8E%E6%B5%81%E8%A1%8C%E9%9F%B3%E4%B9%90MIDI)\n"
   ]
  },
  {
   "cell_type": "code",
   "execution_count": 24,
   "metadata": {},
   "outputs": [],
   "source": [
    "euro_usa_links = []\n",
    "euro_usa_url = \"http://midi.midicn.com/2000/06/06/%E6%AC%A7%E7%BE%8E%E6%B5%81%E8%A1%8C%E9%9F%B3%E4%B9%90MIDI\"\n",
    "euro_usa_page = requests.get(euro_usa_url)\n",
    "euro_usa_tree = html.fromstring(euro_usa_page.content)"
   ]
  },
  {
   "cell_type": "code",
   "execution_count": 27,
   "metadata": {},
   "outputs": [
    {
     "name": "stdout",
     "output_type": "stream",
     "text": [
      "['http://file.midicn.com/midi/euro_usa_pop/feeling.mid', 'http://file.midicn.com/midi/euro_usa_pop/ilbthere.mid', 'http://file.midicn.com/midi/euro_usa_pop/moonrivr.mid', 'http://file.midicn.com/midi/euro_usa_pop/mygirl.mid', 'http://file.midicn.com/midi/euro_usa_pop/onlyu.mid']\n",
      "221\n"
     ]
    }
   ],
   "source": [
    "euro_usa_pop_links = euro_usa_tree.xpath(\"//section[@class='article-content']//ul//li//a/@href\")\n",
    "print(euro_usa_pop_links[:5])\n",
    "print(len(euro_usa_pop_links))"
   ]
  },
  {
   "cell_type": "markdown",
   "metadata": {},
   "source": [
    "### Look up list of title & artist name\n"
   ]
  },
  {
   "cell_type": "code",
   "execution_count": 32,
   "metadata": {},
   "outputs": [
    {
     "data": {
      "text/plain": [
       "[' Feelings (17K) - N/A',\n",
       " \"I'll be there (12K) - N/A\",\n",
       " 'Moon river (17K) - N/A',\n",
       " 'My girl (7K) - N/A',\n",
       " 'Only you (25K) - N/A',\n",
       " 'Relfpass (19K) - N/A',\n",
       " \"Sot(I do't know) (26K) - N/A\",\n",
       " 'anyother (40K) - N/A',\n",
       " 'No limit (39K) - 2 unlimited',\n",
       " 'Twlt zone (29K) - 2 unlimited']"
      ]
     },
     "execution_count": 32,
     "metadata": {},
     "output_type": "execute_result"
    }
   ],
   "source": [
    "euro_usa_meta_data = []\n",
    "\n",
    "euro_usa_li_tags = euro_usa_tree.xpath(\"//section[@class='article-content']//ul//li\")\n",
    "\n",
    "current_artist = \"N/A\"\n",
    "for li in euro_usa_li_tags:\n",
    "    a = li.xpath(\"descendant-or-self::*/text()\")\n",
    "    euro_usa_meta_data.append(a[0] + a[1] + \" - \" + current_artist)\n",
    "    if len(a) == 3: \n",
    "        current_artist = a[2]\n",
    "\n",
    "euro_usa_meta_data[:10]"
   ]
  },
  {
   "cell_type": "markdown",
   "metadata": {
    "collapsed": true
   },
   "source": [
    "## 3. 重金属摇滚MIDI (http://midi.midicn.com/category/%E6%91%87%E6%BB%9A%E9%9F%B3%E4%B9%90)\n"
   ]
  },
  {
   "cell_type": "code",
   "execution_count": 37,
   "metadata": {
    "collapsed": true
   },
   "outputs": [],
   "source": [
    "hard_rock_links = []\n",
    "hard_rock_url = \"http://midi.midicn.com/category/%E6%91%87%E6%BB%9A%E9%9F%B3%E4%B9%90\"\n",
    "hard_rock_page = requests.get(hard_rock_url)\n",
    "hard_rock_tree = html.fromstring(hard_rock_page.content)"
   ]
  },
  {
   "cell_type": "code",
   "execution_count": 38,
   "metadata": {},
   "outputs": [
    {
     "name": "stdout",
     "output_type": "stream",
     "text": [
      "['http://file.midicn.com/midi/rock_metal/4nbld/whats_up.mid', 'http://file.midicn.com/midi/rock_metal/4nbld/whatsup.mid', 'http://file.midicn.com/midi/rock_metal/back2blk.mid', 'http://file.midicn.com/midi/rock_metal/aeros/bogeman.mid', 'http://file.midicn.com/midi/rock_metal/crazy.mid']\n"
     ]
    }
   ],
   "source": [
    "hard_rock_links = hard_rock_tree.xpath(\"//section[@class='article-content']//ul//li//a/@href\")\n",
    "print(hard_rock_links[:5])"
   ]
  },
  {
   "cell_type": "code",
   "execution_count": 40,
   "metadata": {},
   "outputs": [
    {
     "data": {
      "text/plain": [
       "['River of dream (35K) - Billy Joel',\n",
       " 'Bed Medicine (34K) - Bon Jovi',\n",
       " 'Bed of rose (34K) - Bon Jovi',\n",
       " 'Keep the faith (44K) - Bon Jovi',\n",
       " 'Living on the prayer (50K) - Bon Jovi',\n",
       " 'You give love a bad name (42K) - Bon Jovi',\n",
       " \"Everthing I do I'll do it for you (37K) - Bryan Adams\",\n",
       " \"Everthing I do I'll do it for you (30K) - Bryan Adams\",\n",
       " 'Heaven (33K) - Bryan Adams',\n",
       " 'Heaven (22K) - Bryan Adams']"
      ]
     },
     "execution_count": 40,
     "metadata": {},
     "output_type": "execute_result"
    }
   ],
   "source": [
    "hard_rock_meta_data = []\n",
    "\n",
    "hard_rock_li_tags = hard_rock_tree.xpath(\"//section[@class='article-content']//ul//li\")\n",
    "\n",
    "hard_current_artist = \"N/A\"\n",
    "for li in hard_rock_li_tags:\n",
    "    a = li.xpath(\"descendant-or-self::*/text()\")\n",
    "    hard_rock_meta_data.append(a[0] + a[1] + \" - \" + hard_current_artist)\n",
    "    if len(a) == 3: \n",
    "        hard_current_artist = a[2]\n",
    "\n",
    "hard_rock_meta_data[10:20]"
   ]
  },
  {
   "cell_type": "markdown",
   "metadata": {},
   "source": [
    "# General Function\n"
   ]
  },
  {
   "cell_type": "code",
   "execution_count": 84,
   "metadata": {
    "collapsed": true
   },
   "outputs": [],
   "source": [
    "def scrape_one_link(url):\n",
    "    this_page = requests.get(url)\n",
    "    this_page.encoding = 'utf-8'\n",
    "    this_tree = html.fromstring(this_page.content)\n",
    "    midi_links = this_tree.xpath(\"//section[@class='article-content']//ul//li//a/@href\")\n",
    "    \n",
    "    this_meta_data = []\n",
    "    this_li_tags = this_tree.xpath(\"//section[@class='article-content']//ul//li\")\n",
    "    this_artist = \"N/A\"\n",
    "    for li in this_li_tags:\n",
    "        a = li.xpath(\"descendant-or-self::*/text()\")\n",
    "        this_meta_data.append(a[0] + a[1] + \" - \" + this_artist)\n",
    "        if len(a) == 3: \n",
    "            this_artist = a[2]\n",
    "    return midi_links, this_meta_data\n"
   ]
  },
  {
   "cell_type": "markdown",
   "metadata": {},
   "source": [
    "## Testing General Function"
   ]
  },
  {
   "cell_type": "code",
   "execution_count": 88,
   "metadata": {},
   "outputs": [],
   "source": [
    "this_midis, this_metas = scrape_one_link('http://midi.midicn.com/2000/06/06/%E5%8F%A6%E7%B1%BB%E6%91%87%E6%BB%9AMIDI')"
   ]
  },
  {
   "cell_type": "code",
   "execution_count": 90,
   "metadata": {},
   "outputs": [
    {
     "data": {
      "text/plain": [
       "['Alice in ChainsGrind  - N/A',\n",
       " 'I stay away (25K) - (98K)',\n",
       " 'No excuses (40K) - (98K)',\n",
       " 'Adjustice for all (118K) - Metallica',\n",
       " 'Blackened (76K) - Metallica']"
      ]
     },
     "execution_count": 90,
     "metadata": {},
     "output_type": "execute_result"
    }
   ],
   "source": [
    "this_metas[:5]"
   ]
  },
  {
   "cell_type": "markdown",
   "metadata": {},
   "source": [
    "## Using General Function"
   ]
  },
  {
   "cell_type": "code",
   "execution_count": 91,
   "metadata": {
    "collapsed": true
   },
   "outputs": [],
   "source": [
    "links_prepared = [\n",
    "    'http://midi.midicn.com/2000/06/06/%E6%B8%AF%E5%8F%B0%E6%B5%81%E8%A1%8C%E9%9F%B3%E4%B9%90MIDI%E7%94%B7%E6%98%9F', #Hong Kong and Taiwan pop music MIDI male star\n",
    "    'http://midi.midicn.com/2000/06/06/%E6%B8%AF%E5%8F%B0%E6%B5%81%E8%A1%8C%E9%9F%B3%E4%B9%90MIDI%E5%A5%B3%E6%98%9F%E6%B8%AF%E5%8F%B0%E6%B5%81%E8%A1%8C%E9%9F%B3%E4%B9%90MIDI%E5%A5%B3%E6%98%9F', #港台流行音乐MIDI女星\n",
    "    'http://midi.midicn.com/2000/06/06/%E6%B8%AF%E5%8F%B0%E6%B5%81%E8%A1%8C%E9%9F%B3%E4%B9%90MIDI%E5%A5%B3%E6%98%9F%E6%B8%AF%E5%8F%B0%E6%B5%81%E8%A1%8C%E9%9F%B3%E4%B9%90MIDI%E5%A5%B3%E6%98%9F', # Game music MIDI\n",
    "]"
   ]
  },
  {
   "cell_type": "code",
   "execution_count": 92,
   "metadata": {
    "collapsed": true
   },
   "outputs": [],
   "source": [
    "midi_links = []\n",
    "metas = []\n",
    "for iter in range(0, len(links_prepared)):\n",
    "    this_midi, this_meta = scrape_one_link(links_prepared[iter])\n",
    "    midi_links.append(this_midi)\n",
    "    metas.append(this_meta)"
   ]
  },
  {
   "cell_type": "code",
   "execution_count": 97,
   "metadata": {},
   "outputs": [
    {
     "data": {
      "text/plain": [
       "['http://file.midicn.com/midi/hk_tw/beyond/arabdanc.mid',\n",
       " 'http://file.midicn.com/midi/hk_tw/beyond/chon-hoi.mid',\n",
       " 'http://file.midicn.com/midi/hk_tw/beyond/sea-sky.mid',\n",
       " 'http://file.midicn.com/midi/hk_tw/beyond/lover.mid',\n",
       " 'http://file.midicn.com/midi/hk_tw/beyond/pastdays.mid']"
      ]
     },
     "execution_count": 97,
     "metadata": {},
     "output_type": "execute_result"
    }
   ],
   "source": [
    "midi_links[0][:5]"
   ]
  },
  {
   "cell_type": "code",
   "execution_count": null,
   "metadata": {
    "collapsed": true
   },
   "outputs": [],
   "source": []
  }
 ],
 "metadata": {
  "kernelspec": {
   "display_name": "Python 3",
   "language": "python",
   "name": "python3"
  },
  "language_info": {
   "codemirror_mode": {
    "name": "ipython",
    "version": 3
   },
   "file_extension": ".py",
   "mimetype": "text/x-python",
   "name": "python",
   "nbconvert_exporter": "python",
   "pygments_lexer": "ipython3",
   "version": "3.6.3"
  }
 },
 "nbformat": 4,
 "nbformat_minor": 2
}
