{
 "cells": [
  {
   "cell_type": "markdown",
   "metadata": {},
   "source": [
    "# MuseScore Piano Pieces Scraping\n",
    "\n",
    "## Format of MuseScore:\n",
    "\n",
    "ex: https://musescore.com/user/17629331/scores/5161444\n",
    "### Artist name:\n",
    "    <meta property=\"musescore:composer\" content=\"Christopher Negron\">\n",
    "### Midi file:\n",
    "     <h5><a href=\"/score/5161444/download/mid\" rel=\"nofollow\">MIDI</a></h5>\n",
    "     <p>Open in editors and sequencers</p>\n",
    "### Detailed information:\n",
    "    <div class=\"read-more\">\n",
    "        <h4>Uploaded on Jul 12, 2018</h4>\n",
    "        <div class=\"description \">\n",
    "            <div class=\"read-more-inner\">\n",
    "                <div></div>\n",
    "                                <p>This song was made from the depths of my soul: It&#039;s that feeling you get when you&#039;re in love with someone and you just want to watch the stars with them. Well, this song represents looking up at the stars with the person you love, so please enjoy Stargaze Ballade!</p>\n",
    "                            <div class=\"more-info\">\n",
    "\n",
    "                    <table data-striping=\"1\">\n",
    "                        <tbody>\n",
    "                            <tr>\n",
    "                                <td>Pages</td>\n",
    "                                <td>10</td>\n",
    "                            </tr>\n",
    "                            <tr>\n",
    "                                <td>Duration</td>\n",
    "                                <td>06:43</td>\n",
    "                            </tr>\n",
    "                            <tr>\n",
    "                                <td>Measures</td>\n",
    "                                <td>203</td>\n",
    "                            </tr>\n",
    "                            <tr>\n",
    "                                <td>Key signature</td>\n",
    "                                <td>natural</td>\n",
    "                            </tr>\n",
    "                            <tr>\n",
    "                                <td>Parts</td>\n",
    "                                <td>1</td>\n",
    "                            </tr>\n",
    "                            <tr>\n",
    "                                <td>Part names</td>\n",
    "                                <td>Piano</td>\n",
    "                            </tr>\n",
    "                            <tr>\n",
    "                                <td>Privacy</td>\n",
    "                                <td><i class=\"icon-public\"></i> Everyone can see this score</td>\n",
    "                            </tr>\n",
    "                            <tr>\n",
    "                                <td>License</td>\n",
    "                                <td><i class=\"icon-copyright\"></i> None (All rights reserved)</td>\n",
    "                            </tr>\n",
    "                        </tbody>\n",
    "                    </table>\n",
    "                </div>\n",
    "            </div>\n",
    "        </div>\n",
    "        <a href=\"#\" class=\"read-more-toggle\">Show more</a>\n",
    "        <a href=\"#\" class=\"read-less-toggle\">Show less</a>\n",
    "    </div>\n"
   ]
  },
  {
   "cell_type": "markdown",
   "metadata": {},
   "source": [
    "# Make a list of links to scrape\n",
    "### (ex: https://musescore.com/user/17629331/scores/5161444)\n",
    "\n",
    "## Browsing page with list of pieces: https://musescore.com/hub/piano\n",
    "![Inspect Element](screen.png)\n"
   ]
  },
  {
   "cell_type": "code",
   "execution_count": null,
   "metadata": {
    "collapsed": true
   },
   "outputs": [],
   "source": [
    "from lxml import html\n",
    "import urllib\n",
    "import requests\n",
    "import shutil"
   ]
  },
  {
   "cell_type": "code",
   "execution_count": null,
   "metadata": {},
   "outputs": [],
   "source": [
    "links = []\n",
    "url = \"https://musescore.com/hub/piano\"\n",
    "page = requests.get(url)\n",
    "tree = html.fromstring(page.content)\n",
    "print(tree.xpath(\"//title/text()\"))"
   ]
  },
  {
   "cell_type": "code",
   "execution_count": 14,
   "metadata": {
    "collapsed": true
   },
   "outputs": [],
   "source": [
    "links = tree.xpath(\"//article[@class='score-card']//h2//a[@rel='bookmark']/@href\")"
   ]
  },
  {
   "cell_type": "code",
   "execution_count": 15,
   "metadata": {},
   "outputs": [
    {
     "data": {
      "text/plain": [
       "['/user/1885016/scores/5162398',\n",
       " '/user/29089604/scores/5162396',\n",
       " '/user/14651976/scores/5162393',\n",
       " '/user/28274737/scores/5162382',\n",
       " '/user/28015414/scores/5162381']"
      ]
     },
     "execution_count": 15,
     "metadata": {},
     "output_type": "execute_result"
    }
   ],
   "source": [
    "links[:5]"
   ]
  },
  {
   "cell_type": "markdown",
   "metadata": {},
   "source": [
    "## But that's actually just page one and there are pages 2,3,4,5... 100!\n",
    "### So let's make a more general format:"
   ]
  },
  {
   "cell_type": "code",
   "execution_count": 16,
   "metadata": {
    "collapsed": true
   },
   "outputs": [],
   "source": [
    "url_default = \"https://musescore.com/hub/piano?page=\" # + the page number"
   ]
  },
  {
   "cell_type": "code",
   "execution_count": null,
   "metadata": {},
   "outputs": [],
   "source": [
    "links = []\n",
    "for page in range(1,10):\n",
    "    page = requests.get(url_default+str(page)) # https://musescore.com/hub/piano?page=1,2,3,4,5,...,10\n",
    "    tree = html.fromstring(page.content)\n",
    "    this_page_links = tree.xpath(\"//a[@rel='bookmark']/@href\")\n",
    "    \n",
    "    count = 0\n",
    "    for link in this_page_links:\n",
    "        link_new = \"https://musescore.com\" + link\n",
    "        this_page_links[count] = link_new\n",
    "        count += 1\n",
    "    links.extend(this_page_links)\n",
    "print(links[:100])"
   ]
  },
  {
   "cell_type": "markdown",
   "metadata": {},
   "source": [
    "# Scrape one link"
   ]
  },
  {
   "cell_type": "code",
   "execution_count": 18,
   "metadata": {},
   "outputs": [
    {
     "data": {
      "text/plain": [
       "'https://musescore.com/user/1885016/scores/5162398'"
      ]
     },
     "execution_count": 18,
     "metadata": {},
     "output_type": "execute_result"
    }
   ],
   "source": [
    "scrape_this = links[0]\n",
    "scrape_this"
   ]
  },
  {
   "cell_type": "code",
   "execution_count": 19,
   "metadata": {
    "collapsed": true
   },
   "outputs": [],
   "source": [
    "page = requests.get(scrape_this)\n",
    "tree = html.fromstring(page.content)"
   ]
  },
  {
   "cell_type": "markdown",
   "metadata": {},
   "source": [
    "## Download Midi File"
   ]
  },
  {
   "cell_type": "code",
   "execution_count": 20,
   "metadata": {},
   "outputs": [
    {
     "data": {
      "text/plain": [
       "'https://musescore.com/score/5162398/download/mid'"
      ]
     },
     "execution_count": 20,
     "metadata": {},
     "output_type": "execute_result"
    }
   ],
   "source": [
    "midi_link = tree.xpath(\"//a[contains(text(), 'MIDI')]/@href\")\n",
    "midi_link = \"https://musescore.com\" + midi_link[0]\n",
    "midi_link"
   ]
  },
  {
   "cell_type": "markdown",
   "metadata": {
    "collapsed": true
   },
   "source": [
    "### You need to be logged in to download the midi file."
   ]
  },
  {
   "cell_type": "code",
   "execution_count": 43,
   "metadata": {},
   "outputs": [
    {
     "name": "stdout",
     "output_type": "stream",
     "text": [
      "form-FBscnlYrkKrCyOEYG6KnHu3J9yEaQ6azpxVsHue90p8\n",
      "{'name': 'cwkeam', 'pass': '12345678', 'form_build_id': 'form-FBscnlYrkKrCyOEYG6KnHu3J9yEaQ6azpxVsHue90p8'}\n",
      "200\n",
      "text/html; charset=UTF-8\n"
     ]
    }
   ],
   "source": [
    "payload = {\n",
    "    \"name\": \"cwkeam\", \n",
    "    \"pass\": \"12345678\", \n",
    "    \"form_build_id\": \"<CSRF_TOKEN>\"\n",
    "}\n",
    "session_requests = requests.session()\n",
    "\n",
    "login_url = \"https://musescore.com/user/login?q=user/login\"\n",
    "result = session_requests.get(login_url)\n",
    "tree = html.fromstring(result.text)\n",
    "authenticity_token = list(set(tree.xpath(\"//input[@name='form_build_id']/@value\")))[0]\n",
    "print(authenticity_token)\n",
    "payload['form_build_id'] = authenticity_token\n",
    "print(payload)\n",
    "\n",
    "result = session_requests.post(\n",
    "    login_url, \n",
    "    data = payload, \n",
    "    headers = dict(referer=login_url)\n",
    ")\n",
    "\n",
    "print(result.status_code)  \n",
    "print(result.headers['content-type'])  \n",
    "\n",
    "with open('./res.html', 'wb') as f:  \n",
    "     f.write(result.content)"
   ]
  },
  {
   "cell_type": "code",
   "execution_count": 44,
   "metadata": {},
   "outputs": [
    {
     "name": "stdout",
     "output_type": "stream",
     "text": [
      "https://musescore.com/score/5162398/download/mid\n"
     ]
    }
   ],
   "source": [
    "# Test if it worked\n",
    "## If it worked, it should return nothing.\n",
    "print(midi_link)\n",
    "url = midi_link\n",
    "result = session_requests.get(\n",
    "    url, \n",
    "    headers = dict(referer = url)\n",
    ")"
   ]
  },
  {
   "cell_type": "code",
   "execution_count": 45,
   "metadata": {},
   "outputs": [
    {
     "name": "stdout",
     "output_type": "stream",
     "text": [
      "200\n",
      "text/html; charset=UTF-8\n",
      "UTF-8\n"
     ]
    }
   ],
   "source": [
    "\n",
    "print(result.status_code)  \n",
    "print(result.headers['content-type'])  \n",
    "print(result.encoding) \n",
    "\n",
    "\n",
    "with open('./c.mid', 'wb') as f:  \n",
    "    f.write(r_mid.content)"
   ]
  },
  {
   "cell_type": "code",
   "execution_count": null,
   "metadata": {
    "collapsed": true
   },
   "outputs": [],
   "source": []
  }
 ],
 "metadata": {
  "kernelspec": {
   "display_name": "Python 3",
   "language": "python",
   "name": "python3"
  },
  "language_info": {
   "codemirror_mode": {
    "name": "ipython",
    "version": 3
   },
   "file_extension": ".py",
   "mimetype": "text/x-python",
   "name": "python",
   "nbconvert_exporter": "python",
   "pygments_lexer": "ipython3",
   "version": "3.6.3"
  }
 },
 "nbformat": 4,
 "nbformat_minor": 2
}
