{
 "cells": [
  {
   "cell_type": "markdown",
   "metadata": {},
   "source": [
    "# PoPiano Scraping\n",
    "## http://www.popiano.org/piano/soft/295.htm"
   ]
  },
  {
   "cell_type": "markdown",
   "metadata": {},
   "source": [
    "## Scraping from one link"
   ]
  },
  {
   "cell_type": "code",
   "execution_count": 1,
   "metadata": {
    "collapsed": true
   },
   "outputs": [],
   "source": [
    "url = \"http://www.popiano.org/piano/soft/295.htm\""
   ]
  },
  {
   "cell_type": "code",
   "execution_count": 2,
   "metadata": {
    "collapsed": true
   },
   "outputs": [],
   "source": [
    "from lxml import html\n",
    "import requests"
   ]
  },
  {
   "cell_type": "code",
   "execution_count": 8,
   "metadata": {},
   "outputs": [
    {
     "name": "stdout",
     "output_type": "stream",
     "text": [
      "['童话（简易版）-钢琴谱、钢琴曲谱下载-最专业的免费钢琴谱']\n"
     ]
    }
   ],
   "source": [
    "page = requests.get(url)\n",
    "tree = html.fromstring(page.content)\n",
    "print(tree.xpath(\"//title/text()\"))"
   ]
  },
  {
   "cell_type": "code",
   "execution_count": 14,
   "metadata": {},
   "outputs": [
    {
     "name": "stdout",
     "output_type": "stream",
     "text": [
      "['../down1.asp?id=295&no=1']\n",
      "http://www.popiano.org/piano/down1.asp?id=295&no=1\n"
     ]
    }
   ],
   "source": [
    "# ove link\n",
    "ove_link = tree.xpath(\"//a[@title='本地下载']/@href\")\n",
    "print(ove_link)\n",
    "actual_link = \"http://www.popiano.org/piano/\"+ove_link[0][3:]\n",
    "print(actual_link)"
   ]
  },
  {
   "cell_type": "markdown",
   "metadata": {},
   "source": [
    "## Metadata"
   ]
  },
  {
   "cell_type": "code",
   "execution_count": 23,
   "metadata": {
    "collapsed": true
   },
   "outputs": [],
   "source": [
    "all_meta = tree.xpath(\"//td[@width='312']//text()\")"
   ]
  },
  {
   "cell_type": "code",
   "execution_count": 24,
   "metadata": {},
   "outputs": [
    {
     "data": {
      "text/plain": [
       "['\\r\\n    ',\n",
       " '\\r\\n    ',\n",
       " '\\r\\n      ',\n",
       " '推荐等级：',\n",
       " '     \\r\\n      ',\n",
       " '                \\r\\n    ',\n",
       " '\\r\\n  ',\n",
       " '\\r\\n    ',\n",
       " '\\r\\n    ',\n",
       " '\\r\\n      ',\n",
       " '演奏难度：',\n",
       " '简单',\n",
       " '                             \\r\\n    ',\n",
       " '\\r\\n  ',\n",
       " '琴谱格式：',\n",
       " 'ove',\n",
       " '琴谱风格：',\n",
       " '流行歌曲',\n",
       " '授权方式：',\n",
       " '免费版',\n",
       " '琴谱类别：',\n",
       " '港台男歌手',\n",
       " '运行程序：',\n",
       " 'overture',\n",
       " '更新日期：',\n",
       " '2005-11-19 1:24:17']"
      ]
     },
     "execution_count": 24,
     "metadata": {},
     "output_type": "execute_result"
    }
   ],
   "source": [
    "all_meta"
   ]
  },
  {
   "cell_type": "code",
   "execution_count": 31,
   "metadata": {},
   "outputs": [
    {
     "data": {
      "text/plain": [
       "['演奏难度：',\n",
       " '简单',\n",
       " '琴谱格式：',\n",
       " 'ove',\n",
       " '琴谱风格：',\n",
       " '流行歌曲',\n",
       " '授权方式：',\n",
       " '免费版',\n",
       " '琴谱类别：',\n",
       " '港台男歌手',\n",
       " '运行程序：',\n",
       " 'overture',\n",
       " '更新日期：',\n",
       " '2005-11-19 1:24:17']"
      ]
     },
     "execution_count": 31,
     "metadata": {},
     "output_type": "execute_result"
    }
   ],
   "source": [
    "meta_arr = []\n",
    "for i in all_meta:\n",
    "    if i[:1] != '\\r' and i[0] != ' ':\n",
    "        meta_arr.append(i)\n",
    "meta_arr[1:]"
   ]
  },
  {
   "cell_type": "code",
   "execution_count": 33,
   "metadata": {},
   "outputs": [
    {
     "data": {
      "text/plain": [
       "{'授权方式：': '免费版',\n",
       " '更新日期：': '2005-11-19 1:24:17',\n",
       " '演奏难度：': '简单',\n",
       " '琴谱格式：': 'ove',\n",
       " '琴谱类别：': '港台男歌手',\n",
       " '琴谱风格：': '流行歌曲',\n",
       " '运行程序：': 'overture'}"
      ]
     },
     "execution_count": 33,
     "metadata": {},
     "output_type": "execute_result"
    }
   ],
   "source": [
    "dict = {}\n",
    "meta_arr = meta_arr[1:]\n",
    "for i in range(0, len(meta_arr)):\n",
    "    if i%2 == 0:\n",
    "        dict[meta_arr[i]] = ''\n",
    "    else:\n",
    "        dict[meta_arr[i-1]] = meta_arr[i]\n",
    "dict"
   ]
  },
  {
   "cell_type": "markdown",
   "metadata": {},
   "source": [
    "## General function"
   ]
  },
  {
   "cell_type": "code",
   "execution_count": 34,
   "metadata": {
    "collapsed": true
   },
   "outputs": [],
   "source": [
    "def general_scrape_one_link(url):\n",
    "    page = requests.get(url)\n",
    "    tree = html.fromstring(page.content)\n",
    "    ove_link = tree.xpath(\"//a[@title='本地下载']/@href\")\n",
    "    actual_link = \"http://www.popiano.org/piano/\"+ove_link[0][3:]\n",
    "    all_meta = tree.xpath(\"//td[@width='312']//text()\")\n",
    "    \n",
    "    meta_arr = []\n",
    "    for i in all_meta:\n",
    "        if i[:1] != '\\r' and i[0] != ' ':\n",
    "            meta_arr.append(i)\n",
    "    meta_dict = {}\n",
    "    meta_arr = meta_arr[1:]\n",
    "    for i in range(0, len(meta_arr)):\n",
    "        if i%2 == 0:\n",
    "            meta_dict[meta_arr[i]] = ''\n",
    "        else:\n",
    "            meta_dict[meta_arr[i-1]] = meta_arr[i]\n",
    "            \n",
    "    return actual_link, meta_dict"
   ]
  },
  {
   "cell_type": "markdown",
   "metadata": {},
   "source": [
    "## Make the list of links to scrape"
   ]
  },
  {
   "cell_type": "code",
   "execution_count": null,
   "metadata": {
    "collapsed": true
   },
   "outputs": [],
   "source": []
  }
 ],
 "metadata": {
  "kernelspec": {
   "display_name": "Python 3",
   "language": "python",
   "name": "python3"
  },
  "language_info": {
   "codemirror_mode": {
    "name": "ipython",
    "version": 3
   },
   "file_extension": ".py",
   "mimetype": "text/x-python",
   "name": "python",
   "nbconvert_exporter": "python",
   "pygments_lexer": "ipython3",
   "version": "3.6.3"
  }
 },
 "nbformat": 4,
 "nbformat_minor": 2
}
